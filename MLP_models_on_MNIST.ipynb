{
 "cells": [
  {
   "cell_type": "markdown",
   "metadata": {},
   "source": [
    "# Various MLP Models on MNIST data"
   ]
  },
  {
   "cell_type": "markdown",
   "metadata": {},
   "source": [
    "## Defining Preliminaries"
   ]
  },
  {
   "cell_type": "code",
   "execution_count": 1,
   "metadata": {
    "colab": {},
    "colab_type": "code",
    "id": "UELTLyyXAYiK"
   },
   "outputs": [
    {
     "name": "stderr",
     "output_type": "stream",
     "text": [
      "Using TensorFlow backend.\n",
      "/home/ananda/anaconda3/lib/python3.6/site-packages/tensorflow/python/framework/dtypes.py:516: FutureWarning: Passing (type, 1) or '1type' as a synonym of type is deprecated; in a future version of numpy, it will be understood as (type, (1,)) / '(1,)type'.\n",
      "  _np_qint8 = np.dtype([(\"qint8\", np.int8, 1)])\n",
      "/home/ananda/anaconda3/lib/python3.6/site-packages/tensorflow/python/framework/dtypes.py:517: FutureWarning: Passing (type, 1) or '1type' as a synonym of type is deprecated; in a future version of numpy, it will be understood as (type, (1,)) / '(1,)type'.\n",
      "  _np_quint8 = np.dtype([(\"quint8\", np.uint8, 1)])\n",
      "/home/ananda/anaconda3/lib/python3.6/site-packages/tensorflow/python/framework/dtypes.py:518: FutureWarning: Passing (type, 1) or '1type' as a synonym of type is deprecated; in a future version of numpy, it will be understood as (type, (1,)) / '(1,)type'.\n",
      "  _np_qint16 = np.dtype([(\"qint16\", np.int16, 1)])\n",
      "/home/ananda/anaconda3/lib/python3.6/site-packages/tensorflow/python/framework/dtypes.py:519: FutureWarning: Passing (type, 1) or '1type' as a synonym of type is deprecated; in a future version of numpy, it will be understood as (type, (1,)) / '(1,)type'.\n",
      "  _np_quint16 = np.dtype([(\"quint16\", np.uint16, 1)])\n",
      "/home/ananda/anaconda3/lib/python3.6/site-packages/tensorflow/python/framework/dtypes.py:520: FutureWarning: Passing (type, 1) or '1type' as a synonym of type is deprecated; in a future version of numpy, it will be understood as (type, (1,)) / '(1,)type'.\n",
      "  _np_qint32 = np.dtype([(\"qint32\", np.int32, 1)])\n",
      "/home/ananda/anaconda3/lib/python3.6/site-packages/tensorflow/python/framework/dtypes.py:525: FutureWarning: Passing (type, 1) or '1type' as a synonym of type is deprecated; in a future version of numpy, it will be understood as (type, (1,)) / '(1,)type'.\n",
      "  np_resource = np.dtype([(\"resource\", np.ubyte, 1)])\n",
      "/home/ananda/anaconda3/lib/python3.6/site-packages/tensorboard/compat/tensorflow_stub/dtypes.py:541: FutureWarning: Passing (type, 1) or '1type' as a synonym of type is deprecated; in a future version of numpy, it will be understood as (type, (1,)) / '(1,)type'.\n",
      "  _np_qint8 = np.dtype([(\"qint8\", np.int8, 1)])\n",
      "/home/ananda/anaconda3/lib/python3.6/site-packages/tensorboard/compat/tensorflow_stub/dtypes.py:542: FutureWarning: Passing (type, 1) or '1type' as a synonym of type is deprecated; in a future version of numpy, it will be understood as (type, (1,)) / '(1,)type'.\n",
      "  _np_quint8 = np.dtype([(\"quint8\", np.uint8, 1)])\n",
      "/home/ananda/anaconda3/lib/python3.6/site-packages/tensorboard/compat/tensorflow_stub/dtypes.py:543: FutureWarning: Passing (type, 1) or '1type' as a synonym of type is deprecated; in a future version of numpy, it will be understood as (type, (1,)) / '(1,)type'.\n",
      "  _np_qint16 = np.dtype([(\"qint16\", np.int16, 1)])\n",
      "/home/ananda/anaconda3/lib/python3.6/site-packages/tensorboard/compat/tensorflow_stub/dtypes.py:544: FutureWarning: Passing (type, 1) or '1type' as a synonym of type is deprecated; in a future version of numpy, it will be understood as (type, (1,)) / '(1,)type'.\n",
      "  _np_quint16 = np.dtype([(\"quint16\", np.uint16, 1)])\n",
      "/home/ananda/anaconda3/lib/python3.6/site-packages/tensorboard/compat/tensorflow_stub/dtypes.py:545: FutureWarning: Passing (type, 1) or '1type' as a synonym of type is deprecated; in a future version of numpy, it will be understood as (type, (1,)) / '(1,)type'.\n",
      "  _np_qint32 = np.dtype([(\"qint32\", np.int32, 1)])\n",
      "/home/ananda/anaconda3/lib/python3.6/site-packages/tensorboard/compat/tensorflow_stub/dtypes.py:550: FutureWarning: Passing (type, 1) or '1type' as a synonym of type is deprecated; in a future version of numpy, it will be understood as (type, (1,)) / '(1,)type'.\n",
      "  np_resource = np.dtype([(\"resource\", np.ubyte, 1)])\n"
     ]
    }
   ],
   "source": [
    "import seaborn as sns\n",
    "import pandas as pd\n",
    "from keras.initializers import RandomNormal\n",
    "from keras.models import Sequential\n",
    "from keras.layers import Dense, Activation\n",
    "from keras.utils import np_utils\n",
    "from keras.datasets import mnist\n",
    "import seaborn as sns\n",
    "import pandas as pd\n",
    "import matplotlib.pyplot as plt\n",
    "import numpy as np\n",
    "import time\n",
    "%matplotlib notebook\n",
    "  \n",
    "def loss_plotter(ty, vy, n_epoch):\n",
    "    x = list(range(1, n_epoch+1))\n",
    "    test_l = np.array(ty)\n",
    "    val_l = np.array(vy)\n",
    "    \n",
    "    td = {'epoch': x, 't_loss': test_l}\n",
    "    vd = {'epoch': x, 'v_loss': val_l}\n",
    "    \n",
    "    tdf = pd.DataFrame(td)\n",
    "    vdf = pd.DataFrame(vd)\n",
    "    \n",
    "    ax = sns.set(style='darkgrid')\n",
    "    ax = sns.lineplot(x='epoch', y='t_loss', data=tdf, label='Training Loss')\n",
    "    ax = sns.lineplot(x='epoch', y='v_loss', data=vdf, label='Validation loss')\n",
    "    ax.set(xlabel='Number of epochs', ylabel='Loss')\n",
    "    plt.legend()\n",
    "    plt.show()"
   ]
  },
  {
   "cell_type": "markdown",
   "metadata": {},
   "source": [
    "## Getting the dataset"
   ]
  },
  {
   "cell_type": "code",
   "execution_count": 2,
   "metadata": {
    "colab": {},
    "colab_type": "code",
    "id": "hXyCc30zBUxu"
   },
   "outputs": [],
   "source": [
    "#Fetching and loading data into train and test sets\n",
    "(X_train, y_train), (X_test, y_test) = mnist.load_data()"
   ]
  },
  {
   "cell_type": "markdown",
   "metadata": {},
   "source": [
    "## Data pre-processing"
   ]
  },
  {
   "cell_type": "code",
   "execution_count": 3,
   "metadata": {
    "colab": {},
    "colab_type": "code",
    "id": "j8jFrSqxE2rq"
   },
   "outputs": [],
   "source": [
    "#Reshaping data to 1-D vectors\n",
    "X_train = X_train.reshape(X_train.shape[0], X_train.shape[1]*X_train.shape[2])\n",
    "X_test = X_test.reshape(X_test.shape[0], X_test.shape[1]*X_test.shape[2])"
   ]
  },
  {
   "cell_type": "code",
   "execution_count": 4,
   "metadata": {
    "colab": {
     "base_uri": "https://localhost:8080/",
     "height": 1000
    },
    "colab_type": "code",
    "id": "gDurfSYsGp4J",
    "outputId": "6ec3eea6-cc65-4a0b-acab-ad61553dca50"
   },
   "outputs": [],
   "source": [
    "#Normalization step\n",
    "X_train = X_train/255\n",
    "X_test = X_test/255\n",
    "\n",
    "#print(X_train[0])"
   ]
  },
  {
   "cell_type": "code",
   "execution_count": 5,
   "metadata": {
    "colab": {
     "base_uri": "https://localhost:8080/",
     "height": 34
    },
    "colab_type": "code",
    "id": "MasX0X1-HJZn",
    "outputId": "3284d6b1-c048-478e-ee91-5a9192860c29"
   },
   "outputs": [
    {
     "name": "stdout",
     "output_type": "stream",
     "text": [
      "Class label of first image: [0. 0. 0. 0. 0. 1. 0. 0. 0. 0.]\n"
     ]
    }
   ],
   "source": [
    "#one-hot-vector encoding for class labels\n",
    "Y_train = np_utils.to_categorical(y_train, 10)\n",
    "Y_test = np_utils.to_categorical(y_test, 10)\n",
    "\n",
    "print(\"Class label of first image:\", Y_train[0])"
   ]
  },
  {
   "cell_type": "markdown",
   "metadata": {},
   "source": [
    "## Model 1: With a two hidden layers of 392 & 196 units each"
   ]
  },
  {
   "cell_type": "code",
   "execution_count": 6,
   "metadata": {
    "colab": {},
    "colab_type": "code",
    "id": "1V1RYddtJd-r"
   },
   "outputs": [
    {
     "name": "stderr",
     "output_type": "stream",
     "text": [
      "WARNING: Logging before flag parsing goes to stderr.\n",
      "W0730 00:27:54.194854 140345289619264 deprecation_wrapper.py:119] From /home/ananda/anaconda3/lib/python3.6/site-packages/keras/backend/tensorflow_backend.py:74: The name tf.get_default_graph is deprecated. Please use tf.compat.v1.get_default_graph instead.\n",
      "\n",
      "W0730 00:27:54.224792 140345289619264 deprecation_wrapper.py:119] From /home/ananda/anaconda3/lib/python3.6/site-packages/keras/backend/tensorflow_backend.py:517: The name tf.placeholder is deprecated. Please use tf.compat.v1.placeholder instead.\n",
      "\n",
      "W0730 00:27:54.227717 140345289619264 deprecation_wrapper.py:119] From /home/ananda/anaconda3/lib/python3.6/site-packages/keras/backend/tensorflow_backend.py:4138: The name tf.random_uniform is deprecated. Please use tf.random.uniform instead.\n",
      "\n"
     ]
    }
   ],
   "source": [
    "input_dim = X_train.shape[1]\n",
    "output_dim = 10\n",
    "\n",
    "batch_size = 128\n",
    "n_epoch = 20\n",
    "\n",
    "#Defining the model architecture\n",
    "model1 = Sequential([\n",
    "    Dense(392, input_shape=(784,)),\n",
    "    Activation('relu')])\n",
    "\n",
    "model1.add(Dense(196, activation='relu'))\n",
    "model1.add(Dense(output_dim, input_dim=input_dim, activation='softmax'))\n"
   ]
  },
  {
   "cell_type": "code",
   "execution_count": 7,
   "metadata": {
    "colab": {},
    "colab_type": "code",
    "id": "6HlecvYDN8xQ"
   },
   "outputs": [
    {
     "name": "stderr",
     "output_type": "stream",
     "text": [
      "W0730 00:27:59.099625 140345289619264 deprecation_wrapper.py:119] From /home/ananda/anaconda3/lib/python3.6/site-packages/keras/optimizers.py:790: The name tf.train.Optimizer is deprecated. Please use tf.compat.v1.train.Optimizer instead.\n",
      "\n",
      "W0730 00:27:59.161942 140345289619264 deprecation_wrapper.py:119] From /home/ananda/anaconda3/lib/python3.6/site-packages/keras/backend/tensorflow_backend.py:3295: The name tf.log is deprecated. Please use tf.math.log instead.\n",
      "\n"
     ]
    }
   ],
   "source": [
    "#Compiling the model\n",
    "model1.compile(optimizer='adam', loss='categorical_crossentropy', metrics=['accuracy'])"
   ]
  },
  {
   "cell_type": "code",
   "execution_count": 8,
   "metadata": {
    "colab": {
     "base_uri": "https://localhost:8080/",
     "height": 714
    },
    "colab_type": "code",
    "id": "SRC75sbKPgK7",
    "outputId": "133d2d0d-cbb9-47d0-8378-2c4c4743306e"
   },
   "outputs": [
    {
     "name": "stderr",
     "output_type": "stream",
     "text": [
      "W0730 00:28:02.618068 140345289619264 deprecation.py:323] From /home/ananda/anaconda3/lib/python3.6/site-packages/tensorflow/python/ops/math_grad.py:1250: add_dispatch_support.<locals>.wrapper (from tensorflow.python.ops.array_ops) is deprecated and will be removed in a future version.\n",
      "Instructions for updating:\n",
      "Use tf.where in 2.0, which has the same broadcast rule as np.where\n",
      "W0730 00:28:02.679594 140345289619264 deprecation_wrapper.py:119] From /home/ananda/anaconda3/lib/python3.6/site-packages/keras/backend/tensorflow_backend.py:986: The name tf.assign_add is deprecated. Please use tf.compat.v1.assign_add instead.\n",
      "\n"
     ]
    },
    {
     "name": "stdout",
     "output_type": "stream",
     "text": [
      "Train on 60000 samples, validate on 10000 samples\n",
      "Epoch 1/20\n",
      "60000/60000 [==============================] - 5s 84us/step - loss: 0.2484 - acc: 0.9277 - val_loss: 0.1146 - val_acc: 0.9650\n",
      "Epoch 2/20\n",
      "60000/60000 [==============================] - 5s 77us/step - loss: 0.0906 - acc: 0.9728 - val_loss: 0.0965 - val_acc: 0.9694\n",
      "Epoch 3/20\n",
      "60000/60000 [==============================] - 5s 77us/step - loss: 0.0563 - acc: 0.9826 - val_loss: 0.0772 - val_acc: 0.9765\n",
      "Epoch 4/20\n",
      "60000/60000 [==============================] - 5s 77us/step - loss: 0.0393 - acc: 0.9877 - val_loss: 0.0745 - val_acc: 0.9763\n",
      "Epoch 5/20\n",
      "60000/60000 [==============================] - 5s 77us/step - loss: 0.0313 - acc: 0.9901 - val_loss: 0.0727 - val_acc: 0.9773\n",
      "Epoch 6/20\n",
      "60000/60000 [==============================] - 5s 77us/step - loss: 0.0227 - acc: 0.9925 - val_loss: 0.0685 - val_acc: 0.9796\n",
      "Epoch 7/20\n",
      "60000/60000 [==============================] - 5s 78us/step - loss: 0.0181 - acc: 0.9942 - val_loss: 0.0911 - val_acc: 0.9758\n",
      "Epoch 8/20\n",
      "60000/60000 [==============================] - 5s 84us/step - loss: 0.0141 - acc: 0.9953 - val_loss: 0.0830 - val_acc: 0.9777\n",
      "Epoch 9/20\n",
      "60000/60000 [==============================] - 5s 78us/step - loss: 0.0178 - acc: 0.9940 - val_loss: 0.0798 - val_acc: 0.9787\n",
      "Epoch 10/20\n",
      "60000/60000 [==============================] - 5s 87us/step - loss: 0.0133 - acc: 0.9956 - val_loss: 0.0724 - val_acc: 0.9811\n",
      "Epoch 11/20\n",
      "60000/60000 [==============================] - 5s 80us/step - loss: 0.0098 - acc: 0.9966 - val_loss: 0.0969 - val_acc: 0.9784\n",
      "Epoch 12/20\n",
      "60000/60000 [==============================] - 5s 88us/step - loss: 0.0104 - acc: 0.9968 - val_loss: 0.1122 - val_acc: 0.9744\n",
      "Epoch 13/20\n",
      "60000/60000 [==============================] - 6s 92us/step - loss: 0.0087 - acc: 0.9970 - val_loss: 0.0800 - val_acc: 0.9825\n",
      "Epoch 14/20\n",
      "60000/60000 [==============================] - 5s 85us/step - loss: 0.0114 - acc: 0.9963 - val_loss: 0.0838 - val_acc: 0.9807\n",
      "Epoch 15/20\n",
      "60000/60000 [==============================] - 5s 81us/step - loss: 0.0096 - acc: 0.9969 - val_loss: 0.0821 - val_acc: 0.9818\n",
      "Epoch 16/20\n",
      "60000/60000 [==============================] - 5s 82us/step - loss: 0.0088 - acc: 0.9972 - val_loss: 0.0799 - val_acc: 0.9827\n",
      "Epoch 17/20\n",
      "60000/60000 [==============================] - 5s 82us/step - loss: 0.0108 - acc: 0.9963 - val_loss: 0.0903 - val_acc: 0.9802\n",
      "Epoch 18/20\n",
      "60000/60000 [==============================] - 5s 83us/step - loss: 0.0051 - acc: 0.9984 - val_loss: 0.0792 - val_acc: 0.9839\n",
      "Epoch 19/20\n",
      "60000/60000 [==============================] - 5s 84us/step - loss: 0.0010 - acc: 0.9999 - val_loss: 0.0769 - val_acc: 0.9848\n",
      "Epoch 20/20\n",
      "60000/60000 [==============================] - 6s 97us/step - loss: 0.0118 - acc: 0.9965 - val_loss: 0.1022 - val_acc: 0.9796\n"
     ]
    }
   ],
   "source": [
    "#Training the model\n",
    "history = model1.fit(X_train, Y_train, batch_size=batch_size, epochs=n_epoch, verbose=1, validation_data=(X_test, Y_test))"
   ]
  },
  {
   "cell_type": "code",
   "execution_count": 9,
   "metadata": {
    "colab": {
     "base_uri": "https://localhost:8080/",
     "height": 320
    },
    "colab_type": "code",
    "id": "FkLsflz5TfK6",
    "outputId": "accdb6db-f564-4254-b207-babe4af63cfa"
   },
   "outputs": [
    {
     "name": "stdout",
     "output_type": "stream",
     "text": [
      "Test loss:  0.1017106584501732\n",
      "Test accuracy:  0.9808\n"
     ]
    },
    {
     "data": {
      "image/png": "[encoded data removed]",
      "text/plain": [
       "<Figure size 432x288 with 1 Axes>"
      ]
     },
     "metadata": {},
     "output_type": "display_data"
    }
   ],
   "source": [
    "#Evaluating the model\n",
    "\n",
    "score = model1.evaluate(X_test, Y_test, verbose=0)\n",
    "print(\"Test loss: \", score[0])\n",
    "print(\"Test accuracy: \", score[1])\n",
    "\n",
    "ty = history.history['loss']\n",
    "vy = history.history['val_loss']\n",
    "\n",
    "loss_plotter(ty, vy, n_epoch)"
   ]
  },
  {
   "cell_type": "markdown",
   "metadata": {},
   "source": [
    "**_Inference_**: From the above plot we can conclude that Model 1 overfits to training data as training loss falls much lower than test/validation loss."
   ]
  },
  {
   "cell_type": "markdown",
   "metadata": {},
   "source": [
    "## Model 2: With 3 hidden layers of 512, 128 and 32 each using dropouts at p=0.5"
   ]
  },
  {
   "cell_type": "code",
   "execution_count": 10,
   "metadata": {
    "colab": {},
    "colab_type": "code",
    "id": "1V1RYddtJd-r"
   },
   "outputs": [
    {
     "name": "stderr",
     "output_type": "stream",
     "text": [
      "W0729 19:56:42.207182 140068070930240 deprecation.py:506] From /home/ananda/anaconda3/lib/python3.6/site-packages/keras/backend/tensorflow_backend.py:3445: calling dropout (from tensorflow.python.ops.nn_ops) with keep_prob is deprecated and will be removed in a future version.\n",
      "Instructions for updating:\n",
      "Please use `rate` instead of `keep_prob`. Rate should be set to `rate = 1 - keep_prob`.\n"
     ]
    }
   ],
   "source": [
    "from keras.layers import Dropout\n",
    "\n",
    "input_dim = X_train.shape[1]\n",
    "output_dim = 10\n",
    "\n",
    "batch_size = 128\n",
    "n_epoch = 20\n",
    "\n",
    "#Defining the model architecture\n",
    "\n",
    "model2 = Sequential([\n",
    "    Dense(512, input_shape=(784,)),\n",
    "    Activation('relu')])\n",
    "\n",
    "model2.add(Dropout(rate=0.5))\n",
    "model2.add(Dense(128, activation='relu'))\n",
    "model2.add(Dropout(rate=0.5))\n",
    "model2.add(Dense(32, activation='relu'))\n",
    "model2.add(Dropout(rate=0.5))\n",
    "model2.add(Dense(output_dim, input_dim=input_dim, activation='softmax'))\n"
   ]
  },
  {
   "cell_type": "code",
   "execution_count": 11,
   "metadata": {
    "colab": {},
    "colab_type": "code",
    "id": "6HlecvYDN8xQ",
    "scrolled": true
   },
   "outputs": [],
   "source": [
    "#Compiling the model\n",
    "model2.compile(optimizer='adam', loss='categorical_crossentropy', metrics=['accuracy'])"
   ]
  },
  {
   "cell_type": "code",
   "execution_count": 12,
   "metadata": {
    "colab": {
     "base_uri": "https://localhost:8080/",
     "height": 714
    },
    "colab_type": "code",
    "id": "SRC75sbKPgK7",
    "outputId": "133d2d0d-cbb9-47d0-8378-2c4c4743306e"
   },
   "outputs": [
    {
     "name": "stdout",
     "output_type": "stream",
     "text": [
      "Train on 60000 samples, validate on 10000 samples\n",
      "Epoch 1/20\n",
      "60000/60000 [==============================] - 7s 113us/step - loss: 0.8560 - acc: 0.7241 - val_loss: 0.2379 - val_acc: 0.9393\n",
      "Epoch 2/20\n",
      "60000/60000 [==============================] - 6s 102us/step - loss: 0.3825 - acc: 0.8984 - val_loss: 0.1549 - val_acc: 0.9583\n",
      "Epoch 3/20\n",
      "60000/60000 [==============================] - 6s 103us/step - loss: 0.2949 - acc: 0.9229 - val_loss: 0.1325 - val_acc: 0.9647\n",
      "Epoch 4/20\n",
      "60000/60000 [==============================] - 6s 104us/step - loss: 0.2521 - acc: 0.9340 - val_loss: 0.1169 - val_acc: 0.9711\n",
      "Epoch 5/20\n",
      "60000/60000 [==============================] - 6s 104us/step - loss: 0.2217 - acc: 0.9422 - val_loss: 0.1081 - val_acc: 0.9727\n",
      "Epoch 6/20\n",
      "60000/60000 [==============================] - 6s 104us/step - loss: 0.1999 - acc: 0.9477 - val_loss: 0.1052 - val_acc: 0.9736\n",
      "Epoch 7/20\n",
      "60000/60000 [==============================] - 6s 104us/step - loss: 0.1888 - acc: 0.9514 - val_loss: 0.0974 - val_acc: 0.9764\n",
      "Epoch 8/20\n",
      "60000/60000 [==============================] - 6s 104us/step - loss: 0.1724 - acc: 0.9545 - val_loss: 0.0978 - val_acc: 0.9775\n",
      "Epoch 9/20\n",
      "60000/60000 [==============================] - 6s 106us/step - loss: 0.1634 - acc: 0.9570 - val_loss: 0.1066 - val_acc: 0.9743\n",
      "Epoch 10/20\n",
      "60000/60000 [==============================] - 6s 105us/step - loss: 0.1631 - acc: 0.9584 - val_loss: 0.0907 - val_acc: 0.9784\n",
      "Epoch 11/20\n",
      "60000/60000 [==============================] - 6s 105us/step - loss: 0.1521 - acc: 0.9592 - val_loss: 0.0877 - val_acc: 0.9795\n",
      "Epoch 12/20\n",
      "60000/60000 [==============================] - 6s 104us/step - loss: 0.1383 - acc: 0.9632 - val_loss: 0.0929 - val_acc: 0.9788\n",
      "Epoch 13/20\n",
      "60000/60000 [==============================] - 6s 104us/step - loss: 0.1392 - acc: 0.9639 - val_loss: 0.0942 - val_acc: 0.9793\n",
      "Epoch 14/20\n",
      "60000/60000 [==============================] - 6s 104us/step - loss: 0.1327 - acc: 0.9644 - val_loss: 0.0962 - val_acc: 0.9777\n",
      "Epoch 15/20\n",
      "60000/60000 [==============================] - 6s 104us/step - loss: 0.1311 - acc: 0.9652 - val_loss: 0.0860 - val_acc: 0.9799\n",
      "Epoch 16/20\n",
      "60000/60000 [==============================] - 6s 105us/step - loss: 0.1227 - acc: 0.9667 - val_loss: 0.0893 - val_acc: 0.9805\n",
      "Epoch 17/20\n",
      "60000/60000 [==============================] - 6s 105us/step - loss: 0.1213 - acc: 0.9671 - val_loss: 0.0854 - val_acc: 0.9807\n",
      "Epoch 18/20\n",
      "60000/60000 [==============================] - 6s 105us/step - loss: 0.1193 - acc: 0.9674 - val_loss: 0.0814 - val_acc: 0.9813\n",
      "Epoch 19/20\n",
      "60000/60000 [==============================] - 6s 105us/step - loss: 0.1120 - acc: 0.9699 - val_loss: 0.0840 - val_acc: 0.9827\n",
      "Epoch 20/20\n",
      "60000/60000 [==============================] - 6s 104us/step - loss: 0.1104 - acc: 0.9689 - val_loss: 0.0899 - val_acc: 0.9810\n"
     ]
    }
   ],
   "source": [
    "#Training the model\n",
    "history = model2.fit(X_train, Y_train, batch_size=batch_size, epochs=n_epoch, verbose=1, validation_data=(X_test, Y_test))"
   ]
  },
  {
   "cell_type": "code",
   "execution_count": 13,
   "metadata": {
    "colab": {
     "base_uri": "https://localhost:8080/",
     "height": 320
    },
    "colab_type": "code",
    "id": "FkLsflz5TfK6",
    "outputId": "accdb6db-f564-4254-b207-babe4af63cfa"
   },
   "outputs": [
    {
     "name": "stdout",
     "output_type": "stream",
     "text": [
      "Test loss:  0.08989270338734014\n",
      "Test accuracy:  0.981\n"
     ]
    },
    {
     "data": {
      "image/png": "[encoded data removed]",
      "text/plain": [
       "<Figure size 432x288 with 1 Axes>"
      ]
     },
     "metadata": {},
     "output_type": "display_data"
    }
   ],
   "source": [
    "#Evaluating the model\n",
    "score2 = model2.evaluate(X_test, Y_test, verbose=0)\n",
    "print(\"Test loss: \", score2[0])\n",
    "print(\"Test accuracy: \", score2[1])\n",
    "\n",
    "fig, ax = plt.subplots(1, 1)\n",
    "ax.set_xlabel('epochs')\n",
    "ax.set_ylabel('Categorical crossentropy loss')\n",
    "\n",
    "x = list(range(1, n_epoch+1))\n",
    "\n",
    "ty = history.history['loss']\n",
    "vy = history.history['val_loss']\n",
    "\n",
    "loss_plotter(ty, vy, n_epoch)"
   ]
  },
  {
   "cell_type": "markdown",
   "metadata": {},
   "source": [
    "**_Inference_**: Model 2 does not overfit to training data due to the use of dropout layers."
   ]
  },
  {
   "cell_type": "markdown",
   "metadata": {},
   "source": [
    "## Model 3: With 5 hidden layers of 512, 256, 128, 64, 32 with 2 BatchNorm layers in between"
   ]
  },
  {
   "cell_type": "code",
   "execution_count": 14,
   "metadata": {
    "colab": {},
    "colab_type": "code",
    "id": "1V1RYddtJd-r"
   },
   "outputs": [],
   "source": [
    "from keras.layers.normalization import BatchNormalization\n",
    "input_dim = X_train.shape[1]\n",
    "output_dim = 10\n",
    "\n",
    "batch_size = 128\n",
    "n_epoch = 20\n",
    "\n",
    "#Defining the model architecture\n",
    "\n",
    "model3 = Sequential([\n",
    "    Dense(512, input_shape=(784,)),\n",
    "    Activation('relu')])\n",
    "\n",
    "model3.add(Dense(256, activation='relu'))\n",
    "model3.add(BatchNormalization())\n",
    "\n",
    "model3.add(Dense(128, activation='relu'))\n",
    "model3.add(Dense(64, activation='relu'))\n",
    "model3.add(BatchNormalization())\n",
    "\n",
    "model3.add(Dense(32, activation='relu'))\n",
    "model3.add(Dense(output_dim, input_dim=input_dim, activation='softmax'))\n"
   ]
  },
  {
   "cell_type": "code",
   "execution_count": 15,
   "metadata": {
    "colab": {},
    "colab_type": "code",
    "id": "6HlecvYDN8xQ"
   },
   "outputs": [],
   "source": [
    "#Compiling the model\n",
    "model3.compile(optimizer='adam', loss='categorical_crossentropy', metrics=['accuracy'])"
   ]
  },
  {
   "cell_type": "code",
   "execution_count": 16,
   "metadata": {
    "colab": {
     "base_uri": "https://localhost:8080/",
     "height": 714
    },
    "colab_type": "code",
    "id": "SRC75sbKPgK7",
    "outputId": "133d2d0d-cbb9-47d0-8378-2c4c4743306e"
   },
   "outputs": [
    {
     "name": "stdout",
     "output_type": "stream",
     "text": [
      "Train on 60000 samples, validate on 10000 samples\n",
      "Epoch 1/20\n",
      "60000/60000 [==============================] - 10s 161us/step - loss: 0.2587 - acc: 0.9266 - val_loss: 0.1376 - val_acc: 0.9580\n",
      "Epoch 2/20\n",
      "60000/60000 [==============================] - 7s 116us/step - loss: 0.0961 - acc: 0.9712 - val_loss: 0.0940 - val_acc: 0.9714\n",
      "Epoch 3/20\n",
      "60000/60000 [==============================] - 7s 117us/step - loss: 0.0680 - acc: 0.9787 - val_loss: 0.0786 - val_acc: 0.9765\n",
      "Epoch 4/20\n",
      "60000/60000 [==============================] - 7s 116us/step - loss: 0.0510 - acc: 0.9839 - val_loss: 0.0910 - val_acc: 0.9728\n",
      "Epoch 5/20\n",
      "60000/60000 [==============================] - 7s 117us/step - loss: 0.0423 - acc: 0.9860 - val_loss: 0.0820 - val_acc: 0.9769\n",
      "Epoch 6/20\n",
      "60000/60000 [==============================] - 7s 117us/step - loss: 0.0346 - acc: 0.9892 - val_loss: 0.0752 - val_acc: 0.9767\n",
      "Epoch 7/20\n",
      "60000/60000 [==============================] - 7s 117us/step - loss: 0.0314 - acc: 0.9897 - val_loss: 0.0921 - val_acc: 0.9759\n",
      "Epoch 8/20\n",
      "60000/60000 [==============================] - 7s 117us/step - loss: 0.0252 - acc: 0.9920 - val_loss: 0.0950 - val_acc: 0.9759\n",
      "Epoch 9/20\n",
      "60000/60000 [==============================] - 9s 142us/step - loss: 0.0233 - acc: 0.9925 - val_loss: 0.0724 - val_acc: 0.9815\n",
      "Epoch 10/20\n",
      "60000/60000 [==============================] - 7s 121us/step - loss: 0.0219 - acc: 0.9929 - val_loss: 0.0970 - val_acc: 0.9749\n",
      "Epoch 11/20\n",
      "60000/60000 [==============================] - 7s 120us/step - loss: 0.0201 - acc: 0.9935 - val_loss: 0.0829 - val_acc: 0.9798\n",
      "Epoch 12/20\n",
      "60000/60000 [==============================] - 7s 122us/step - loss: 0.0177 - acc: 0.9943 - val_loss: 0.0757 - val_acc: 0.9810\n",
      "Epoch 13/20\n",
      "60000/60000 [==============================] - 7s 123us/step - loss: 0.0175 - acc: 0.9942 - val_loss: 0.0847 - val_acc: 0.9786\n",
      "Epoch 14/20\n",
      "60000/60000 [==============================] - 7s 122us/step - loss: 0.0154 - acc: 0.9950 - val_loss: 0.0847 - val_acc: 0.9794\n",
      "Epoch 15/20\n",
      "60000/60000 [==============================] - 7s 122us/step - loss: 0.0130 - acc: 0.9957 - val_loss: 0.0753 - val_acc: 0.9818\n",
      "Epoch 16/20\n",
      "60000/60000 [==============================] - 7s 125us/step - loss: 0.0134 - acc: 0.9958 - val_loss: 0.0757 - val_acc: 0.9820\n",
      "Epoch 17/20\n",
      "60000/60000 [==============================] - 8s 141us/step - loss: 0.0133 - acc: 0.9953 - val_loss: 0.0729 - val_acc: 0.9816\n",
      "Epoch 18/20\n",
      "60000/60000 [==============================] - 7s 122us/step - loss: 0.0133 - acc: 0.9956 - val_loss: 0.0821 - val_acc: 0.9814\n",
      "Epoch 19/20\n",
      "60000/60000 [==============================] - 7s 121us/step - loss: 0.0085 - acc: 0.9972 - val_loss: 0.0867 - val_acc: 0.9799\n",
      "Epoch 20/20\n",
      "60000/60000 [==============================] - 7s 120us/step - loss: 0.0106 - acc: 0.9968 - val_loss: 0.0891 - val_acc: 0.9785\n"
     ]
    }
   ],
   "source": [
    "#Training the model\n",
    "history = model3.fit(X_train, Y_train, batch_size=batch_size, epochs=n_epoch, verbose=1, validation_data=(X_test, Y_test))"
   ]
  },
  {
   "cell_type": "code",
   "execution_count": 17,
   "metadata": {
    "colab": {
     "base_uri": "https://localhost:8080/",
     "height": 320
    },
    "colab_type": "code",
    "id": "FkLsflz5TfK6",
    "outputId": "accdb6db-f564-4254-b207-babe4af63cfa"
   },
   "outputs": [
    {
     "name": "stdout",
     "output_type": "stream",
     "text": [
      "Test loss:  0.08914131843880459\n",
      "Test accuracy:  0.9785\n"
     ]
    },
    {
     "data": {
      "image/png": "[encoded data removed]",
      "text/plain": [
       "<Figure size 432x288 with 1 Axes>"
      ]
     },
     "metadata": {},
     "output_type": "display_data"
    }
   ],
   "source": [
    "#Evaluating the model\n",
    "score3 = model3.evaluate(X_test, Y_test, verbose=0)\n",
    "print(\"Test loss: \", score3[0])\n",
    "print(\"Test accuracy: \", score3[1])\n",
    "\n",
    "fig, ax = plt.subplots(1, 1)\n",
    "ax.set_xlabel('epochs')\n",
    "ax.set_ylabel('Categorical crossentropy loss')\n",
    "\n",
    "x = list(range(1, n_epoch+1))\n",
    "\n",
    "ty = history.history['loss']\n",
    "vy = history.history['val_loss']\n",
    "\n",
    "loss_plotter(ty, vy, n_epoch)"
   ]
  },
  {
   "cell_type": "markdown",
   "metadata": {},
   "source": [
    "**_Inference:_** Model 3 hugely overfits to training data, possibly because of the high number of hidden layers."
   ]
  },
  {
   "cell_type": "markdown",
   "metadata": {},
   "source": [
    "**In conclusion, out of the above 3 models, it can be observed that Model 2 performs the best for classifying unseen hand-written digits.**"
   ]
  }
 ],
 "metadata": {
  "colab": {
   "name": "Untitled0.ipynb",
   "provenance": [],
   "version": "0.3.2"
  },
  "kernelspec": {
   "display_name": "Python 3",
   "language": "python",
   "name": "python3"
  },
  "language_info": {
   "codemirror_mode": {
    "name": "ipython",
    "version": 3
   },
   "file_extension": ".py",
   "mimetype": "text/x-python",
   "name": "python",
   "nbconvert_exporter": "python",
   "pygments_lexer": "ipython3",
   "version": "3.6.5"
  }
 },
 "nbformat": 4,
 "nbformat_minor": 1
}
