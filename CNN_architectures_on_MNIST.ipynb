{
 "cells": [
  {
   "cell_type": "markdown",
   "metadata": {},
   "source": [
    "# Experimenting with CNNs & ResNET on MNIST"
   ]
  },
  {
   "cell_type": "markdown",
   "metadata": {},
   "source": [
    "### Here I explore various CNN architectures including a ResNET and compare their performances."
   ]
  },
  {
   "cell_type": "code",
   "execution_count": 0,
   "metadata": {
    "colab": {},
    "colab_type": "code",
    "id": "fYRcWTd2y-KP"
   },
   "outputs": [],
   "source": [
    "%config IPCompleter.greedy=True"
   ]
  },
  {
   "cell_type": "markdown",
   "metadata": {
    "colab_type": "text",
    "id": "uSyEGIZUy-KS"
   },
   "source": [
    "## Step 1: Defining Preliminaries"
   ]
  },
  {
   "cell_type": "code",
   "execution_count": 3,
   "metadata": {
    "colab": {
     "base_uri": "https://localhost:8080/",
     "height": 34
    },
    "colab_type": "code",
    "id": "7E6er-K2y-KT",
    "outputId": "71d768af-82c2-43da-a600-42d23f65d9ae"
   },
   "outputs": [
    {
     "name": "stderr",
     "output_type": "stream",
     "text": [
      "Using TensorFlow backend.\n"
     ]
    }
   ],
   "source": [
    "import warnings\n",
    "import keras\n",
    "from keras.datasets import mnist\n",
    "from keras.models import Sequential\n",
    "from keras.layers import Dense, Dropout, Flatten, Conv2D, MaxPooling2D\n",
    "from keras.layers.normalization import BatchNormalization\n",
    "from keras.utils import np_utils\n",
    "from keras import backend as K\n",
    "import seaborn as sns\n",
    "import matplotlib.pyplot as plt\n",
    "import numpy as np\n",
    "import pandas as pd\n",
    "import time\n",
    "warnings.filterwarnings(\"ignore\")\n",
    "%matplotlib notebook\n",
    "\n",
    "#A function to plot losses at training phase againsst the number of epochs.\n",
    "def loss_plotter(ty, vy, n_epoch):\n",
    "    x = list(range(1, n_epoch+1))\n",
    "    test_l = np.array(ty)\n",
    "    val_l = np.array(vy)\n",
    "    \n",
    "    td = {'epoch': x, 't_loss': test_l}\n",
    "    vd = {'epoch': x, 'v_loss': val_l}\n",
    "    \n",
    "    tdf = pd.DataFrame(td)\n",
    "    vdf = pd.DataFrame(vd)\n",
    "    \n",
    "    ax = sns.set(style='darkgrid')\n",
    "    ax = sns.lineplot(x='epoch', y='t_loss', data=tdf, label='Training Loss')\n",
    "    ax = sns.lineplot(x='epoch', y='v_loss', data=vdf, label='Validation loss')\n",
    "    ax.set(xlabel='Number of epochs', ylabel='Loss')\n",
    "    plt.legend()\n",
    "    plt.show()"
   ]
  },
  {
   "cell_type": "markdown",
   "metadata": {
    "colab_type": "text",
    "id": "IkXIDrMry-KW"
   },
   "source": [
    "## Step 2: Data Loading & Pre-Processing"
   ]
  },
  {
   "cell_type": "code",
   "execution_count": 0,
   "metadata": {
    "colab": {},
    "colab_type": "code",
    "id": "Suade9Bfy-KX"
   },
   "outputs": [],
   "source": [
    "#Setting up required variables...\n",
    "\n",
    "batch_size = 128\n",
    "n_class = 10\n",
    "n_epoch = 12\n",
    "img_rows, img_cols = 28, 28"
   ]
  },
  {
   "cell_type": "code",
   "execution_count": 5,
   "metadata": {
    "colab": {
     "base_uri": "https://localhost:8080/",
     "height": 51
    },
    "colab_type": "code",
    "id": "H1nOu0mIy-KZ",
    "outputId": "67fdfe1b-1822-4397-d076-333c6b93fe50"
   },
   "outputs": [
    {
     "name": "stdout",
     "output_type": "stream",
     "text": [
      "Downloading data from https://s3.amazonaws.com/img-datasets/mnist.npz\n",
      "11493376/11490434 [==============================] - 0s 0us/step\n"
     ]
    }
   ],
   "source": [
    "#Getting the datasets...\n",
    "\n",
    "(X_train, y_train), (X_test, y_test) = mnist.load_data()"
   ]
  },
  {
   "cell_type": "code",
   "execution_count": 0,
   "metadata": {
    "colab": {},
    "colab_type": "code",
    "id": "UCt4vZU9y-Kc"
   },
   "outputs": [],
   "source": [
    "#Setting the number of channels to 1 for mnist data which is black-white data...\n",
    "\n",
    "if K.image_data_format() == 'channels_first':\n",
    "    X_train = X_train.reshape(X_train.shape[0], 1, img_rows, img_cols)\n",
    "    X_test = X_test.reshape(X_test.shape[0], 1, img_rows, img_cols)\n",
    "    input_shape = (1, img_rows, img_cols)\n",
    "else:\n",
    "    X_train = X_train.reshape(X_train.shape[0], img_rows, img_cols, 1)\n",
    "    X_test = X_test.reshape(X_test.shape[0], img_rows, img_cols, 1)\n",
    "    input_shape = (img_rows, img_cols, 1)       "
   ]
  },
  {
   "cell_type": "code",
   "execution_count": 7,
   "metadata": {
    "colab": {
     "base_uri": "https://localhost:8080/",
     "height": 68
    },
    "colab_type": "code",
    "id": "JMZ-LJAMy-Ke",
    "outputId": "ce46c6b2-a498-4cf4-cb35-e1c0249be846"
   },
   "outputs": [
    {
     "name": "stdout",
     "output_type": "stream",
     "text": [
      "Data shape: (60000, 28, 28, 1)\n",
      "Number of training samples: 60000\n",
      "Number of test samples: 10000\n"
     ]
    }
   ],
   "source": [
    "#Data normalization...\n",
    "\n",
    "X_train = X_train.astype('float32')\n",
    "X_test = X_test.astype('float32')\n",
    "X_train /= 255\n",
    "X_test /= 255\n",
    "print('Data shape:', X_train.shape)\n",
    "print('Number of training samples:', X_train.shape[0])\n",
    "print('Number of test samples:', X_test.shape[0])"
   ]
  },
  {
   "cell_type": "code",
   "execution_count": 0,
   "metadata": {
    "colab": {},
    "colab_type": "code",
    "id": "EHzRX4PTy-Kg"
   },
   "outputs": [],
   "source": [
    "#Setting class labels to one-hot vector encodings\n",
    "\n",
    "Y_train = np_utils.to_categorical(y_train, n_class)\n",
    "Y_test = np_utils.to_categorical(y_test, n_class)"
   ]
  },
  {
   "cell_type": "markdown",
   "metadata": {
    "colab_type": "text",
    "id": "TAqs-M3By-Ki"
   },
   "source": [
    "## Step 3: Defining Model Architecture"
   ]
  },
  {
   "cell_type": "markdown",
   "metadata": {
    "colab_type": "text",
    "id": "i9R5gMYBy-Kj"
   },
   "source": [
    "### Model 1: CNN with 2 convolution layers of 32 and 64 5X5 filters respectively, and one max_pool before flatten and 2 dense layers of 256 and 128 units each with dropouts for classification."
   ]
  },
  {
   "cell_type": "code",
   "execution_count": 9,
   "metadata": {
    "colab": {
     "base_uri": "https://localhost:8080/",
     "height": 346
    },
    "colab_type": "code",
    "collapsed": true,
    "id": "QJsf5iWGy-Kk",
    "outputId": "ab0b6334-26db-45ba-b0bd-035c8c63d2ea"
   },
   "outputs": [
    {
     "name": "stderr",
     "output_type": "stream",
     "text": [
      "WARNING: Logging before flag parsing goes to stderr.\n",
      "W0804 17:33:21.656090 139968403437440 deprecation_wrapper.py:119] From /usr/local/lib/python3.6/dist-packages/keras/backend/tensorflow_backend.py:74: The name tf.get_default_graph is deprecated. Please use tf.compat.v1.get_default_graph instead.\n",
      "\n",
      "W0804 17:33:21.692426 139968403437440 deprecation_wrapper.py:119] From /usr/local/lib/python3.6/dist-packages/keras/backend/tensorflow_backend.py:517: The name tf.placeholder is deprecated. Please use tf.compat.v1.placeholder instead.\n",
      "\n",
      "W0804 17:33:21.699009 139968403437440 deprecation_wrapper.py:119] From /usr/local/lib/python3.6/dist-packages/keras/backend/tensorflow_backend.py:4138: The name tf.random_uniform is deprecated. Please use tf.random.uniform instead.\n",
      "\n",
      "W0804 17:33:21.735858 139968403437440 deprecation_wrapper.py:119] From /usr/local/lib/python3.6/dist-packages/keras/backend/tensorflow_backend.py:3976: The name tf.nn.max_pool is deprecated. Please use tf.nn.max_pool2d instead.\n",
      "\n",
      "W0804 17:33:21.738900 139968403437440 deprecation_wrapper.py:119] From /usr/local/lib/python3.6/dist-packages/keras/backend/tensorflow_backend.py:133: The name tf.placeholder_with_default is deprecated. Please use tf.compat.v1.placeholder_with_default instead.\n",
      "\n",
      "W0804 17:33:21.748765 139968403437440 deprecation.py:506] From /usr/local/lib/python3.6/dist-packages/keras/backend/tensorflow_backend.py:3445: calling dropout (from tensorflow.python.ops.nn_ops) with keep_prob is deprecated and will be removed in a future version.\n",
      "Instructions for updating:\n",
      "Please use `rate` instead of `keep_prob`. Rate should be set to `rate = 1 - keep_prob`.\n",
      "W0804 17:33:21.842542 139968403437440 deprecation_wrapper.py:119] From /usr/local/lib/python3.6/dist-packages/keras/optimizers.py:790: The name tf.train.Optimizer is deprecated. Please use tf.compat.v1.train.Optimizer instead.\n",
      "\n",
      "W0804 17:33:21.859511 139968403437440 deprecation_wrapper.py:119] From /usr/local/lib/python3.6/dist-packages/keras/backend/tensorflow_backend.py:3295: The name tf.log is deprecated. Please use tf.math.log instead.\n",
      "\n"
     ]
    }
   ],
   "source": [
    "cnn_model1 = Sequential()\n",
    "\n",
    "#Convoultional layers...\n",
    "cnn_model1.add(Conv2D(32, (5, 5), activation='relu', input_shape=input_shape))\n",
    "cnn_model1.add(Conv2D(64, (5, 5), activation='relu'))\n",
    "cnn_model1.add(MaxPooling2D(pool_size=(3, 3)))\n",
    "cnn_model1.add(Dropout(0.25))\n",
    "\n",
    "#Flatten and classify...\n",
    "cnn_model1.add(Flatten())\n",
    "cnn_model1.add(Dense(256, activation='relu'))\n",
    "cnn_model1.add(Dropout(0.25))\n",
    "cnn_model1.add(Dense(128, activation='relu'))\n",
    "cnn_model1.add(Dropout(0.5))\n",
    "cnn_model1.add(Dense(n_class, activation='softmax'))\n",
    "\n",
    "#Compile the model\n",
    "cnn_model1.compile(optimizer='Adadelta', loss='categorical_crossentropy', metrics=['accuracy'])"
   ]
  },
  {
   "cell_type": "markdown",
   "metadata": {
    "colab_type": "text",
    "id": "jsBKLJh9y-Km"
   },
   "source": [
    "## Step 4: Train the model"
   ]
  },
  {
   "cell_type": "code",
   "execution_count": 10,
   "metadata": {
    "colab": {
     "base_uri": "https://localhost:8080/",
     "height": 517
    },
    "colab_type": "code",
    "id": "8TUdZqUby-Kn",
    "outputId": "e0d01151-08ce-4171-eb44-76823ac90cc8"
   },
   "outputs": [
    {
     "name": "stderr",
     "output_type": "stream",
     "text": [
      "W0804 17:33:21.978628 139968403437440 deprecation.py:323] From /usr/local/lib/python3.6/dist-packages/tensorflow/python/ops/math_grad.py:1250: add_dispatch_support.<locals>.wrapper (from tensorflow.python.ops.array_ops) is deprecated and will be removed in a future version.\n",
      "Instructions for updating:\n",
      "Use tf.where in 2.0, which has the same broadcast rule as np.where\n"
     ]
    },
    {
     "name": "stdout",
     "output_type": "stream",
     "text": [
      "Train on 60000 samples, validate on 10000 samples\n",
      "Epoch 1/12\n",
      "60000/60000 [==============================] - 12s 199us/step - loss: 0.2695 - acc: 0.9157 - val_loss: 0.0571 - val_acc: 0.9823\n",
      "Epoch 2/12\n",
      "60000/60000 [==============================] - 5s 76us/step - loss: 0.0782 - acc: 0.9777 - val_loss: 0.0321 - val_acc: 0.9897\n",
      "Epoch 3/12\n",
      "60000/60000 [==============================] - 5s 77us/step - loss: 0.0578 - acc: 0.9840 - val_loss: 0.0317 - val_acc: 0.9898\n",
      "Epoch 4/12\n",
      "60000/60000 [==============================] - 5s 77us/step - loss: 0.0460 - acc: 0.9870 - val_loss: 0.0265 - val_acc: 0.9907\n",
      "Epoch 5/12\n",
      "60000/60000 [==============================] - 5s 77us/step - loss: 0.0388 - acc: 0.9894 - val_loss: 0.0251 - val_acc: 0.9925\n",
      "Epoch 6/12\n",
      "60000/60000 [==============================] - 5s 77us/step - loss: 0.0351 - acc: 0.9904 - val_loss: 0.0223 - val_acc: 0.9932\n",
      "Epoch 7/12\n",
      "60000/60000 [==============================] - 5s 77us/step - loss: 0.0318 - acc: 0.9909 - val_loss: 0.0232 - val_acc: 0.9922\n",
      "Epoch 8/12\n",
      "60000/60000 [==============================] - 5s 77us/step - loss: 0.0270 - acc: 0.9923 - val_loss: 0.0234 - val_acc: 0.9932\n",
      "Epoch 9/12\n",
      "60000/60000 [==============================] - 5s 77us/step - loss: 0.0241 - acc: 0.9932 - val_loss: 0.0228 - val_acc: 0.9928\n",
      "Epoch 10/12\n",
      "60000/60000 [==============================] - 5s 77us/step - loss: 0.0224 - acc: 0.9936 - val_loss: 0.0236 - val_acc: 0.9932\n",
      "Epoch 11/12\n",
      "60000/60000 [==============================] - 5s 77us/step - loss: 0.0198 - acc: 0.9944 - val_loss: 0.0252 - val_acc: 0.9937\n",
      "Epoch 12/12\n",
      "60000/60000 [==============================] - 5s 77us/step - loss: 0.0197 - acc: 0.9943 - val_loss: 0.0251 - val_acc: 0.9927\n"
     ]
    }
   ],
   "source": [
    "history = cnn_model1.fit(X_train, Y_train, batch_size=batch_size, epochs=n_epoch, verbose=1, validation_data=(X_test, Y_test))"
   ]
  },
  {
   "cell_type": "markdown",
   "metadata": {
    "colab_type": "text",
    "id": "NRUd4Gyoy-Kp"
   },
   "source": [
    "## Step 5: Evaluate the Model"
   ]
  },
  {
   "cell_type": "code",
   "execution_count": 16,
   "metadata": {
    "colab": {
     "base_uri": "https://localhost:8080/",
     "height": 326
    },
    "colab_type": "code",
    "id": "Xskf8I_Py-Kq",
    "outputId": "de6a0310-3992-4b95-cf60-3e29af707058"
   },
   "outputs": [
    {
     "name": "stdout",
     "output_type": "stream",
     "text": [
      "Test loss: 0.025065377400253327\n",
      "Test accuracy: 0.9927\n"
     ]
    },
    {
     "data": {
      "image/png": "[encoded data removed]",
      "text/plain": [
       "<Figure size 432x288 with 1 Axes>"
      ]
     },
     "metadata": {
      "tags": []
     },
     "output_type": "display_data"
    }
   ],
   "source": [
    "score1 = cnn_model1.evaluate(X_test, Y_test, verbose=0)\n",
    "print(\"Test loss:\", score1[0])\n",
    "print(\"Test accuracy:\", score1[1])\n",
    "\n",
    "ty = history.history['loss']\n",
    "vy = history.history['val_loss']\n",
    "\n",
    "%matplotlib inline\n",
    "loss_plotter(ty, vy, n_epoch)"
   ]
  },
  {
   "cell_type": "markdown",
   "metadata": {
    "colab_type": "text",
    "id": "B5CPTWUBy-Kt"
   },
   "source": [
    "**_Inference:_** Model 1 gives good test accuracy and does not overfit much in 12 epochs."
   ]
  },
  {
   "cell_type": "code",
   "execution_count": 0,
   "metadata": {
    "colab": {},
    "colab_type": "code",
    "id": "2oQrXizWy-Kt"
   },
   "outputs": [],
   "source": []
  },
  {
   "cell_type": "markdown",
   "metadata": {
    "colab_type": "text",
    "id": "ebjpDRCXy-Kv"
   },
   "source": [
    "### Model 2: CNN with 5 convolution layers with batch normalization"
   ]
  },
  {
   "cell_type": "code",
   "execution_count": 0,
   "metadata": {
    "colab": {},
    "colab_type": "code",
    "id": "gjxo7VB1y-Kw"
   },
   "outputs": [],
   "source": [
    "cnn_model2 = Sequential()\n",
    "\n",
    "#Convoultional layers...\n",
    "cnn_model2.add(Conv2D(128, (5, 5), activation='relu', input_shape=input_shape))\n",
    "cnn_model2.add(Conv2D(64, (5, 5), activation='relu'))\n",
    "cnn_model2.add(BatchNormalization())\n",
    "\n",
    "cnn_model2.add(Conv2D(64, (3, 3), activation='relu'))\n",
    "cnn_model2.add(Conv2D(32, (3, 3), activation='relu'))\n",
    "cnn_model2.add(BatchNormalization())\n",
    "\n",
    "cnn_model2.add(Conv2D(16, (3, 3), activation='relu'))\n",
    "cnn_model2.add(MaxPooling2D(pool_size=(2, 2)))\n",
    "\n",
    "#Flatten and classify...\n",
    "cnn_model2.add(Flatten())\n",
    "cnn_model2.add(Dense(128, activation='relu'))\n",
    "cnn_model2.add(Dropout(0.5))\n",
    "cnn_model2.add(Dense(n_class, activation='softmax'))\n",
    "\n",
    "#Compile the model\n",
    "cnn_model2.compile(optimizer='Adam', loss='categorical_crossentropy', metrics=['accuracy'])"
   ]
  },
  {
   "cell_type": "markdown",
   "metadata": {
    "colab_type": "text",
    "id": "KAySXm4Qy-Ky"
   },
   "source": [
    "### Training Model 2"
   ]
  },
  {
   "cell_type": "code",
   "execution_count": 13,
   "metadata": {
    "colab": {
     "base_uri": "https://localhost:8080/",
     "height": 446
    },
    "colab_type": "code",
    "id": "7Rn7uq5ty-Kz",
    "outputId": "541436ad-1a22-4cc9-eb76-8bf3ba62133a"
   },
   "outputs": [
    {
     "name": "stdout",
     "output_type": "stream",
     "text": [
      "Train on 60000 samples, validate on 10000 samples\n",
      "Epoch 1/12\n",
      "60000/60000 [==============================] - 12s 194us/step - loss: 0.2556 - acc: 0.9226 - val_loss: 0.0741 - val_acc: 0.9775\n",
      "Epoch 2/12\n",
      "60000/60000 [==============================] - 10s 171us/step - loss: 0.0848 - acc: 0.9757 - val_loss: 0.0382 - val_acc: 0.9881\n",
      "Epoch 3/12\n",
      "60000/60000 [==============================] - 10s 171us/step - loss: 0.0648 - acc: 0.9817 - val_loss: 0.0333 - val_acc: 0.9890\n",
      "Epoch 4/12\n",
      "60000/60000 [==============================] - 10s 170us/step - loss: 0.0560 - acc: 0.9839 - val_loss: 0.0358 - val_acc: 0.9897\n",
      "Epoch 5/12\n",
      "60000/60000 [==============================] - 10s 170us/step - loss: 0.0500 - acc: 0.9848 - val_loss: 0.0297 - val_acc: 0.9906\n",
      "Epoch 6/12\n",
      "60000/60000 [==============================] - 10s 170us/step - loss: 0.0423 - acc: 0.9875 - val_loss: 0.0298 - val_acc: 0.9909\n",
      "Epoch 7/12\n",
      "60000/60000 [==============================] - 10s 170us/step - loss: 0.0388 - acc: 0.9887 - val_loss: 0.0289 - val_acc: 0.9913\n",
      "Epoch 8/12\n",
      "60000/60000 [==============================] - 10s 170us/step - loss: 0.0344 - acc: 0.9895 - val_loss: 0.0222 - val_acc: 0.9931\n",
      "Epoch 9/12\n",
      "60000/60000 [==============================] - 10s 170us/step - loss: 0.0351 - acc: 0.9900 - val_loss: 0.0323 - val_acc: 0.9892\n",
      "Epoch 10/12\n",
      "60000/60000 [==============================] - 10s 169us/step - loss: 0.0319 - acc: 0.9907 - val_loss: 0.0262 - val_acc: 0.9914\n",
      "Epoch 11/12\n",
      "60000/60000 [==============================] - 10s 170us/step - loss: 0.0301 - acc: 0.9906 - val_loss: 0.0259 - val_acc: 0.9920\n",
      "Epoch 12/12\n",
      "60000/60000 [==============================] - 10s 170us/step - loss: 0.0258 - acc: 0.9921 - val_loss: 0.0219 - val_acc: 0.9934\n"
     ]
    }
   ],
   "source": [
    "history = cnn_model2.fit(X_train, Y_train, batch_size=batch_size, epochs=n_epoch, verbose=1, validation_data=(X_test, Y_test))"
   ]
  },
  {
   "cell_type": "markdown",
   "metadata": {
    "colab_type": "text",
    "id": "IyN2N9Ujy-K3"
   },
   "source": [
    "### Evaluating Model 2"
   ]
  },
  {
   "cell_type": "code",
   "execution_count": 17,
   "metadata": {
    "colab": {
     "base_uri": "https://localhost:8080/",
     "height": 326
    },
    "colab_type": "code",
    "id": "7yD53Moky-K3",
    "outputId": "a307e515-bd5e-4a91-c487-f0477c9d83dd"
   },
   "outputs": [
    {
     "name": "stdout",
     "output_type": "stream",
     "text": [
      "Test loss: 0.021898293099513376\n",
      "Test accuracy: 0.9934\n"
     ]
    },
    {
     "data": {
      "image/png": "[encoded data removed]",
      "text/plain": [
       "<Figure size 432x288 with 1 Axes>"
      ]
     },
     "metadata": {
      "tags": []
     },
     "output_type": "display_data"
    }
   ],
   "source": [
    "score2 = cnn_model2.evaluate(X_test, Y_test, verbose=0)\n",
    "print(\"Test loss:\", score2[0])\n",
    "print(\"Test accuracy:\", score2[1])\n",
    "\n",
    "ty = history.history['loss']\n",
    "vy = history.history['val_loss']\n",
    "\n",
    "%matplotlib inline\n",
    "loss_plotter(ty, vy, n_epoch)"
   ]
  },
  {
   "cell_type": "markdown",
   "metadata": {
    "colab_type": "text",
    "id": "yyxCPvaFJpvM"
   },
   "source": [
    "***Inference:*** Model 2 gives slightly better test accuracy than Model 1 and does not exhibit overfitting to train data."
   ]
  },
  {
   "cell_type": "markdown",
   "metadata": {
    "colab_type": "text",
    "id": "ard3s__hy-K6"
   },
   "source": [
    "### Model 3: Residual CNN with 10 layers"
   ]
  },
  {
   "cell_type": "markdown",
   "metadata": {
    "colab_type": "text",
    "id": "AoRFyzxdQAf0"
   },
   "source": [
    "Model 3 is a residual network architecture with one identity block and two convolutional blocks. The detailed architecture is illustrated in the figure below:\n",
    "![architecture](https://drive.google.com/uc?id=1-wyB-egoHYR10CRxigtw60trBe8yqb8A)\n",
    "\n"
   ]
  },
  {
   "cell_type": "code",
   "execution_count": 0,
   "metadata": {
    "colab": {},
    "colab_type": "code",
    "id": "eP73EVWVy-K7"
   },
   "outputs": [],
   "source": [
    "from keras.layers import Input, Add, Activation\n",
    "from keras.initializers import glorot_uniform\n",
    "from keras.models import Model, load_model\n",
    "\n",
    "#First Identity block with 5X5 kernels\n",
    "def identity_block_5x5(X, n_filters):\n",
    "    \n",
    "    #Forking to a skip connection...\n",
    "    X_skip = X\n",
    "    \n",
    "    #Implementing the layers using callable layer objects...\n",
    "    X = Conv2D(filters=n_filters, kernel_size=(5, 5), strides = (1, 1), padding='same', kernel_initializer=glorot_uniform(seed=0))(X)\n",
    "    X = Activation('relu')(X)\n",
    "    \n",
    "    X = Conv2D(filters=n_filters, kernel_size=(5, 5), strides = (1, 1), padding='same', kernel_initializer=glorot_uniform(seed=0))(X)\n",
    "    X = Activation('relu')(X)\n",
    "    \n",
    "    X = MaxPooling2D(pool_size=(2, 2), strides=(1, 1), padding='same')(X)\n",
    "    \n",
    "    X = BatchNormalization()(X)\n",
    "    \n",
    "    #Implementing the skip connection join by addition layer...\n",
    "    X = Add()([X, X_skip])\n",
    "    X = Activation('relu')(X)\n",
    "    \n",
    "    return X\n",
    "\n",
    "#Convolution block where the skip connection itself goes through a convolution layer\n",
    "def conv_block_3x3(X, n_filters):\n",
    "    \n",
    "    #Forking to a skip connection...\n",
    "    X_skip = X\n",
    "    \n",
    "    X = Conv2D(filters=n_filters, kernel_size=(3, 3), strides = (1, 1), padding='same', kernel_initializer=glorot_uniform(seed=0))(X)\n",
    "    X = Activation('relu')(X)\n",
    "    \n",
    "    X = Conv2D(filters=n_filters, kernel_size=(3, 3), strides = (1, 1), padding='same', kernel_initializer=glorot_uniform(seed=0))(X)\n",
    "    X = Activation('relu')(X)\n",
    "    \n",
    "    X = MaxPooling2D(pool_size=(2, 2), strides=(1, 1), padding='same')(X)\n",
    "    \n",
    "    X = BatchNormalization()(X)\n",
    "    \n",
    "    #Convoluting on the skip connection...\n",
    "    X_skip = Conv2D(filters=n_filters, kernel_size = (3, 3), strides = (1, 1), padding='same')(X_skip)\n",
    "    X_skip = Activation('relu')(X_skip)\n",
    "    \n",
    "    #Implementing the skip connection join by addition layer...\n",
    "    X = Add()([X, X_skip])\n",
    "    X = Activation('relu')(X)\n",
    "    \n",
    "    return X\n",
    "\n",
    "#Function to define the entire residual network architecture...\n",
    "def resCNN(input_shape=(28, 28, 1), n_class=10):\n",
    "    \n",
    "    #Setting input shape...\n",
    "    X_input = Input(input_shape)\n",
    "    \n",
    "    #First convolution layer followed by max-pooling...\n",
    "    X = Conv2D(64, (7, 7), strides=(1, 1), kernel_initializer=glorot_uniform(seed=0))(X_input)\n",
    "    X = MaxPooling2D((3, 3), strides=(1, 1))(X)\n",
    "    \n",
    "    #Adding the residual blocks to the model...\n",
    "    X = identity_block_5x5(X, 64)\n",
    "    \n",
    "    X = conv_block_3x3(X, 32)\n",
    "    \n",
    "    X = conv_block_3x3(X, 16)\n",
    "    \n",
    "    #Last convolution layer after exiting from residual blocks...\n",
    "    X = Conv2D(16, (3, 3), strides=(1, 1))(X)\n",
    "    X = MaxPooling2D(pool_size=(2, 2), strides=(1, 1))(X)\n",
    "    X = BatchNormalization()(X)\n",
    "    \n",
    "    #Flatten and classify...\n",
    "    X = Flatten()(X)\n",
    "    X = Dense(n_class, activation='softmax')(X)\n",
    "    \n",
    "    #Define a keras model with described architecture...\n",
    "    model = Model(inputs = X_input, outputs = X, name='resCNN')\n",
    "    \n",
    "    return model\n",
    "\n",
    "#create model...\n",
    "cnn_model3 = resCNN(input_shape=input_shape, n_class=10)\n",
    "\n",
    "#compile model...\n",
    "cnn_model3.compile(optimizer='adam', loss='categorical_crossentropy', metrics=['accuracy'])"
   ]
  },
  {
   "cell_type": "code",
   "execution_count": 27,
   "metadata": {
    "colab": {
     "base_uri": "https://localhost:8080/",
     "height": 446
    },
    "colab_type": "code",
    "id": "VqB_o4_PHaGL",
    "outputId": "a0170586-efaf-4dc3-f1ea-7e4298f0a73a"
   },
   "outputs": [
    {
     "name": "stdout",
     "output_type": "stream",
     "text": [
      "Train on 60000 samples, validate on 10000 samples\n",
      "Epoch 1/12\n",
      "60000/60000 [==============================] - 17s 289us/step - loss: 0.1328 - acc: 0.9603 - val_loss: 0.1405 - val_acc: 0.9638\n",
      "Epoch 2/12\n",
      "60000/60000 [==============================] - 15s 252us/step - loss: 0.0644 - acc: 0.9822 - val_loss: 0.1797 - val_acc: 0.9558\n",
      "Epoch 3/12\n",
      "60000/60000 [==============================] - 15s 254us/step - loss: 0.0503 - acc: 0.9855 - val_loss: 0.1044 - val_acc: 0.9751\n",
      "Epoch 4/12\n",
      "60000/60000 [==============================] - 15s 254us/step - loss: 0.0433 - acc: 0.9878 - val_loss: 0.0732 - val_acc: 0.9811\n",
      "Epoch 5/12\n",
      "60000/60000 [==============================] - 15s 253us/step - loss: 0.0345 - acc: 0.9896 - val_loss: 0.0716 - val_acc: 0.9803\n",
      "Epoch 6/12\n",
      "60000/60000 [==============================] - 15s 253us/step - loss: 0.0315 - acc: 0.9905 - val_loss: 0.0451 - val_acc: 0.9880\n",
      "Epoch 7/12\n",
      "60000/60000 [==============================] - 15s 253us/step - loss: 0.0275 - acc: 0.9916 - val_loss: 0.1125 - val_acc: 0.9702\n",
      "Epoch 8/12\n",
      "60000/60000 [==============================] - 15s 253us/step - loss: 0.0230 - acc: 0.9926 - val_loss: 0.0438 - val_acc: 0.9882\n",
      "Epoch 9/12\n",
      "60000/60000 [==============================] - 15s 253us/step - loss: 0.0234 - acc: 0.9928 - val_loss: 0.0393 - val_acc: 0.9911\n",
      "Epoch 10/12\n",
      "60000/60000 [==============================] - 15s 253us/step - loss: 0.0208 - acc: 0.9937 - val_loss: 0.0488 - val_acc: 0.9878\n",
      "Epoch 11/12\n",
      "60000/60000 [==============================] - 15s 253us/step - loss: 0.0167 - acc: 0.9946 - val_loss: 0.0348 - val_acc: 0.9912\n",
      "Epoch 12/12\n",
      "60000/60000 [==============================] - 15s 253us/step - loss: 0.0181 - acc: 0.9944 - val_loss: 0.0438 - val_acc: 0.9904\n"
     ]
    }
   ],
   "source": [
    "#Train the model...\n",
    "history = cnn_model3.fit(X_train, Y_train, batch_size=batch_size, epochs=n_epoch, verbose=1, validation_data=(X_test, Y_test))"
   ]
  },
  {
   "cell_type": "code",
   "execution_count": 28,
   "metadata": {
    "colab": {
     "base_uri": "https://localhost:8080/",
     "height": 326
    },
    "colab_type": "code",
    "id": "UGuIkXL1I5z2",
    "outputId": "3685351e-6cca-4bc0-be88-69692b8fbcb4"
   },
   "outputs": [
    {
     "name": "stdout",
     "output_type": "stream",
     "text": [
      "Test loss: 0.021898293099513376\n",
      "Test accuracy: 0.9934\n"
     ]
    },
    {
     "data": {
      "image/png": "[encoded data removed]",
      "text/plain": [
       "<Figure size 432x288 with 1 Axes>"
      ]
     },
     "metadata": {
      "tags": []
     },
     "output_type": "display_data"
    }
   ],
   "source": [
    "#Evaluating the model...\n",
    "score3 = cnn_model3.evaluate(X_test, Y_test, verbose=0)\n",
    "print(\"Test loss:\", score2[0])\n",
    "print(\"Test accuracy:\", score2[1])\n",
    "\n",
    "ty = history.history['loss']\n",
    "vy = history.history['val_loss']\n",
    "\n",
    "%matplotlib inline\n",
    "loss_plotter(ty, vy, n_epoch)"
   ]
  },
  {
   "cell_type": "markdown",
   "metadata": {
    "colab_type": "text",
    "id": "Xmq21dwGKJK-"
   },
   "source": [
    "***Inference:*** In Model 3, we observe that the training loss converges to a minimum faster than Model 1 and 2, although validation loss exceeds train loss at all time steps in training. This suggests Model 3 highly overfits to training data and is not the best for classifying unseen data."
   ]
  },
  {
   "cell_type": "markdown",
   "metadata": {
    "colab_type": "text",
    "id": "Zh4aW22xKr1V"
   },
   "source": [
    "## Conclusions"
   ]
  },
  {
   "cell_type": "markdown",
   "metadata": {
    "colab_type": "text",
    "id": "_pfOlG-1LHUF"
   },
   "source": [
    "The below table compares and contrasts the above discussed three models."
   ]
  },
  {
   "cell_type": "code",
   "execution_count": 30,
   "metadata": {
    "colab": {
     "base_uri": "https://localhost:8080/",
     "height": 137
    },
    "colab_type": "code",
    "id": "nbkaSAReLwIK",
    "outputId": "91830386-f616-456f-ec00-4e22a3ae4e94"
   },
   "outputs": [
    {
     "name": "stdout",
     "output_type": "stream",
     "text": [
      "+-----------+--------------+-----------------------+------------+---------------+\n",
      "| Model No. |     Type     | Number of Conv Layers | Test Score | Test Accuracy |\n",
      "+-----------+--------------+-----------------------+------------+---------------+\n",
      "|  Model_1  |     CNN      |           2           |   0.0251   |     0.9927    |\n",
      "|  Model_2  |     CNN      |           5           |   0.0219   |     0.9934    |\n",
      "|  Model_3  | Residual CNN |           10          |   0.0438   |     0.9904    |\n",
      "+-----------+--------------+-----------------------+------------+---------------+\n"
     ]
    }
   ],
   "source": [
    "from prettytable import PrettyTable\n",
    "    \n",
    "comp_table = PrettyTable()\n",
    "\n",
    "comp_table.field_names = [\"Model No.\", \"Type\", \"Number of Conv Layers\", \"Test Score\", \"Test Accuracy\"]\n",
    "\n",
    "comp_table.add_row([\"Model_1\", \"CNN\", 2, round(score1[0], 4), score1[1]])\n",
    "comp_table.add_row([\"Model_2\", \"CNN\", 5, round(score2[0], 4), score2[1]])\n",
    "comp_table.add_row([\"Model_3\", \"Residual CNN\", 10, round(score3[0], 4), score3[1]])\n",
    "\n",
    "print(comp_table)"
   ]
  },
  {
   "cell_type": "markdown",
   "metadata": {
    "colab_type": "text",
    "id": "7xoI-6NhOXDX"
   },
   "source": [
    "### ***Finally, we can conclude from the above table that Model 2 with 5 convolutional layers and batch normalization exhibits best results for classifying unseen hand-written digits among the three models we have experimented with. Model 1 also shows comparably good performance. However, Model 3 performs most poorly. From this we may infer that a more complicated architecture with several layers does not always guarantee better performance, especially for simpler tasks like MNIST classification.***"
   ]
  }
 ],
 "metadata": {
  "accelerator": "GPU",
  "colab": {
   "name": "nandm.b@gmail.com_13 (1).ipynb",
   "provenance": [],
   "version": "0.3.2"
  },
  "kernelspec": {
   "display_name": "Python 3",
   "language": "python",
   "name": "python3"
  },
  "language_info": {
   "codemirror_mode": {
    "name": "ipython",
    "version": 3
   },
   "file_extension": ".py",
   "mimetype": "text/x-python",
   "name": "python",
   "nbconvert_exporter": "python",
   "pygments_lexer": "ipython3",
   "version": "3.6.5"
  }
 },
 "nbformat": 4,
 "nbformat_minor": 1
}
